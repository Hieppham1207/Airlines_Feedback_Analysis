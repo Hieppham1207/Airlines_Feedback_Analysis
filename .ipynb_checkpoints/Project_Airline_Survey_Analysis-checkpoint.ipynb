{
 "cells": [
  {
   "cell_type": "markdown",
   "id": "58a78dc1",
   "metadata": {
    "colab_type": "text",
    "deletable": false,
    "id": "Y2OUp3hR29W9"
   },
   "source": [
    "<center>\n",
    "    <h1>KHÓA ĐÀO TẠO:<br> PHÂN TÍCH KHAI PHÁ DỮ LIỆU </h1>\n",
    "</center>\n",
    " \n",
    "\n",
    "<img src='Pic/Picture1.png' width='550px'>\n",
    "\n",
    "---\n",
    "*Copyright: Đặng Văn Nam - FIT.HUMG - BKACAD@2024*"
   ]
  },
  {
   "cell_type": "markdown",
   "id": "2d319747",
   "metadata": {},
   "source": [
    "\n",
    "### PHÂN TÍCH DỮ LIỆU KHẢO SÁT SỰ HÀI LÒNG CỦA HÀNH KHÁCH VỚI DỊCH VỤ BAY\n",
    "---\n",
    "**MỤC TIÊU:**\n",
    "Nhằm cải thiện, nâng cao chất lượng phục vụ hành khách. Giúp tìm ra những dịch vụ, những khâu còn hạn chế để đem đến sự hài lòng cho hành khách qua đó thu hút và giữ chân khách hàng sử dụng dịch vụ bay của hãng mình. Hãng hàng không United Airline cần thực hiện khảo sát với các hành khách đã sử dụng dịch vụ bay của mình.\n",
    "\n",
    "<img src='Pic/flight_survey.jpeg' width='300px'>\n",
    "\n",
    "**DỮ LIỆU:**\n",
    "Tập dữ liệu bao gồm 129875 ý kiến đánh giá của 129875 hành khách tham gia sử dụng dịch vụ bay. Bao gồm 19 thông tin sau: (Tập dữ liệu đã được làm sạch)\n",
    "\n",
    "**A. Các thông tin chung của hành khách và chuyến bay:**\n",
    "1. Gender: Giới tính của hành khách (Male|Female)\n",
    "2. Customer Type: Loại hành khách. \n",
    "    * Khách hàng thân thiết (Loyal Customer): Khách hàng đã đi nhiều lần (>=2) với hãng\n",
    "    * Khách hàng không thân thiết (disloyal Customer): Khách hàng không thân thiết (sử dụng dịch vụ bay lần đầu của hãng)\n",
    "3. Age: Tuổi của khách hàng\n",
    "4. Type of Travel: Mục đích đi máy bay\n",
    "    * Đi với mục đích công việc (Business travel)\n",
    "    * Đi với mục đích cá nhân (Personal Travel)\n",
    "5. Class: Loại vé (Business | Eco Plus | Eco)\n",
    "6. Flight Distance: Khoảng cách di chuyển của chuyến bay (Mile)\n",
    "7. Departure Delay in Minutes: Thời gian trễ của chuyến bay tại ga xuất phát (Phút)\n",
    "8. Arrival Delay in Minutes: Thời gian trễ của chuyến bay tại ga đến (phút)\n",
    "\n",
    "**B. Các thông tin khảo sát:** Thang chấm từ 0 (thấp nhất)  --> 5 (cao nhất)\n",
    "\n",
    "9. Inflight wifi service: Dịch vụ wifi trên chuyến bay\n",
    "10. Departure/Arrival time convenient: Mức độ thuận tiện trong thời gian ở Ga khởi hành| Ga đến\n",
    "11. Ease of Online booking: Mức độ dễ đàng khi đặt vé Online\n",
    "12. Food and drink: Đồ ăn và đồ uống phục vụ trên chuyến bay\n",
    "13. Seat comfort: Sự thoải mái của chỗ ngồi\n",
    "14. Inflight entertainment: Dịch vụ giải trí trên chuyến bay\n",
    "15. Baggage handling: Vấn đề liên quan đến hành lý xách tay\n",
    "16. Checkin service: Dịch vụ checkin\n",
    "17. Inflight service: Dịch vụ trên chuyến bay\n",
    "18. Cleanliness: Vệ sinh trên chuyến bay\n",
    "\n",
    "**C.Đánh giá chung của hành khách:**\n",
    "\n",
    "19. satisfaction: Tổng quan chung về mức độ hài lòng.\n",
    "    * KHÔNG HÀI LÒNG với chuyến bay (neutral or dissatisfied)\n",
    "    * HÀI LÒNG với chuyến bay (satisfied)\n",
    "\n",
    "**MỤC TIÊU:**\n",
    "- Phân tích các kết quả khảo sát, xác định những dịch vụ ảnh hưởng tới mức độ không hài lòng của hành khách\n",
    "\n",
    "---\n",
    "*Copyright: Đặng Văn Nam - FIT.HUMG - BKACAD - 2024*"
   ]
  },
  {
   "cell_type": "markdown",
   "id": "db675da0",
   "metadata": {},
   "source": [
    "# 1. Đọc và quan sát dữ liệu\n",
    "---\n",
    "* NOTE - Tập dữ liệu đã được làm sạch!"
   ]
  },
  {
   "cell_type": "code",
   "execution_count": 1,
   "id": "d227c0aa",
   "metadata": {},
   "outputs": [],
   "source": [
    "#Gọi các thư viện sử dụng:\n",
    "import numpy as np\n",
    "import pandas as pd\n",
    "import matplotlib.pyplot as plt\n",
    "import seaborn as sns\n",
    "#-------------------------------------\n",
    "import warnings\n",
    "warnings.filterwarnings('ignore')"
   ]
  },
  {
   "cell_type": "code",
   "execution_count": 2,
   "id": "2df355bc",
   "metadata": {},
   "outputs": [
    {
     "name": "stdout",
     "output_type": "stream",
     "text": [
      "<class 'pandas.core.frame.DataFrame'>\n",
      "RangeIndex: 129875 entries, 0 to 129874\n",
      "Data columns (total 20 columns):\n",
      " #   Column                             Non-Null Count   Dtype  \n",
      "---  ------                             --------------   -----  \n",
      " 0   Code                               129875 non-null  object \n",
      " 1   Gender                             129875 non-null  object \n",
      " 2   Customer Type                      129875 non-null  object \n",
      " 3   Age                                129875 non-null  int64  \n",
      " 4   Type of Travel                     129875 non-null  object \n",
      " 5   Class                              129875 non-null  object \n",
      " 6   Flight Distance                    129875 non-null  int64  \n",
      " 7   Departure Delay in Minutes         129875 non-null  float64\n",
      " 8   Arrival Delay in Minutes           129485 non-null  float64\n",
      " 9   Inflight wifi service              129875 non-null  int64  \n",
      " 10  Departure/Arrival time convenient  129875 non-null  int64  \n",
      " 11  Ease of Online booking             129875 non-null  int64  \n",
      " 12  Food and drink                     129875 non-null  int64  \n",
      " 13  Seat comfort                       129875 non-null  int64  \n",
      " 14  Inflight entertainment             129875 non-null  int64  \n",
      " 15  Baggage handling                   129875 non-null  int64  \n",
      " 16  Checkin service                    129875 non-null  int64  \n",
      " 17  Inflight service                   129875 non-null  int64  \n",
      " 18  Cleanliness                        129875 non-null  int64  \n",
      " 19  satisfaction                       129875 non-null  object \n",
      "dtypes: float64(2), int64(12), object(6)\n",
      "memory usage: 19.8+ MB\n"
     ]
    }
   ],
   "source": [
    "#Đọc dữ liệu từ file CSV:\n",
    "df_passenger = pd.read_csv('Data/Data_Airlines_OK.csv')\n",
    "df_passenger.info()"
   ]
  },
  {
   "cell_type": "code",
   "execution_count": 3,
   "id": "72114332",
   "metadata": {},
   "outputs": [
    {
     "data": {
      "text/html": [
       "<div>\n",
       "<style scoped>\n",
       "    .dataframe tbody tr th:only-of-type {\n",
       "        vertical-align: middle;\n",
       "    }\n",
       "\n",
       "    .dataframe tbody tr th {\n",
       "        vertical-align: top;\n",
       "    }\n",
       "\n",
       "    .dataframe thead th {\n",
       "        text-align: right;\n",
       "    }\n",
       "</style>\n",
       "<table border=\"1\" class=\"dataframe\">\n",
       "  <thead>\n",
       "    <tr style=\"text-align: right;\">\n",
       "      <th></th>\n",
       "      <th>Code</th>\n",
       "      <th>Gender</th>\n",
       "      <th>Customer Type</th>\n",
       "      <th>Age</th>\n",
       "      <th>Type of Travel</th>\n",
       "      <th>Class</th>\n",
       "      <th>Flight Distance</th>\n",
       "      <th>Departure Delay in Minutes</th>\n",
       "      <th>Arrival Delay in Minutes</th>\n",
       "      <th>Inflight wifi service</th>\n",
       "      <th>Departure/Arrival time convenient</th>\n",
       "      <th>Ease of Online booking</th>\n",
       "      <th>Food and drink</th>\n",
       "      <th>Seat comfort</th>\n",
       "      <th>Inflight entertainment</th>\n",
       "      <th>Baggage handling</th>\n",
       "      <th>Checkin service</th>\n",
       "      <th>Inflight service</th>\n",
       "      <th>Cleanliness</th>\n",
       "      <th>satisfaction</th>\n",
       "    </tr>\n",
       "  </thead>\n",
       "  <tbody>\n",
       "    <tr>\n",
       "      <th>0</th>\n",
       "      <td>WX02553023</td>\n",
       "      <td>Male</td>\n",
       "      <td>Loyal Customer</td>\n",
       "      <td>13</td>\n",
       "      <td>Personal Travel</td>\n",
       "      <td>Eco Plus</td>\n",
       "      <td>460</td>\n",
       "      <td>25.0</td>\n",
       "      <td>18.0</td>\n",
       "      <td>0</td>\n",
       "      <td>4</td>\n",
       "      <td>3</td>\n",
       "      <td>0</td>\n",
       "      <td>5</td>\n",
       "      <td>5</td>\n",
       "      <td>0</td>\n",
       "      <td>0</td>\n",
       "      <td>5</td>\n",
       "      <td>0</td>\n",
       "      <td>neutral or dissatisfied</td>\n",
       "    </tr>\n",
       "    <tr>\n",
       "      <th>1</th>\n",
       "      <td>QS99844747</td>\n",
       "      <td>Male</td>\n",
       "      <td>Disloyal Customer</td>\n",
       "      <td>25</td>\n",
       "      <td>Business travel</td>\n",
       "      <td>Business</td>\n",
       "      <td>235</td>\n",
       "      <td>1.0</td>\n",
       "      <td>6.0</td>\n",
       "      <td>0</td>\n",
       "      <td>2</td>\n",
       "      <td>3</td>\n",
       "      <td>1</td>\n",
       "      <td>1</td>\n",
       "      <td>1</td>\n",
       "      <td>1</td>\n",
       "      <td>1</td>\n",
       "      <td>0</td>\n",
       "      <td>1</td>\n",
       "      <td>neutral or dissatisfied</td>\n",
       "    </tr>\n",
       "    <tr>\n",
       "      <th>2</th>\n",
       "      <td>OL00432935</td>\n",
       "      <td>Female</td>\n",
       "      <td>Loyal Customer</td>\n",
       "      <td>26</td>\n",
       "      <td>Business travel</td>\n",
       "      <td>Business</td>\n",
       "      <td>1142</td>\n",
       "      <td>0.0</td>\n",
       "      <td>0.0</td>\n",
       "      <td>2</td>\n",
       "      <td>2</td>\n",
       "      <td>2</td>\n",
       "      <td>5</td>\n",
       "      <td>5</td>\n",
       "      <td>5</td>\n",
       "      <td>4</td>\n",
       "      <td>4</td>\n",
       "      <td>4</td>\n",
       "      <td>5</td>\n",
       "      <td>satisfied</td>\n",
       "    </tr>\n",
       "    <tr>\n",
       "      <th>3</th>\n",
       "      <td>CM55347278</td>\n",
       "      <td>Female</td>\n",
       "      <td>Loyal Customer</td>\n",
       "      <td>25</td>\n",
       "      <td>Business travel</td>\n",
       "      <td>Business</td>\n",
       "      <td>562</td>\n",
       "      <td>11.0</td>\n",
       "      <td>9.0</td>\n",
       "      <td>0</td>\n",
       "      <td>5</td>\n",
       "      <td>5</td>\n",
       "      <td>2</td>\n",
       "      <td>2</td>\n",
       "      <td>2</td>\n",
       "      <td>1</td>\n",
       "      <td>1</td>\n",
       "      <td>0</td>\n",
       "      <td>2</td>\n",
       "      <td>neutral or dissatisfied</td>\n",
       "    </tr>\n",
       "    <tr>\n",
       "      <th>4</th>\n",
       "      <td>TZ46480191</td>\n",
       "      <td>Male</td>\n",
       "      <td>Loyal Customer</td>\n",
       "      <td>61</td>\n",
       "      <td>Business travel</td>\n",
       "      <td>Business</td>\n",
       "      <td>214</td>\n",
       "      <td>0.0</td>\n",
       "      <td>0.0</td>\n",
       "      <td>3</td>\n",
       "      <td>3</td>\n",
       "      <td>3</td>\n",
       "      <td>4</td>\n",
       "      <td>5</td>\n",
       "      <td>3</td>\n",
       "      <td>4</td>\n",
       "      <td>3</td>\n",
       "      <td>3</td>\n",
       "      <td>3</td>\n",
       "      <td>satisfied</td>\n",
       "    </tr>\n",
       "  </tbody>\n",
       "</table>\n",
       "</div>"
      ],
      "text/plain": [
       "         Code  Gender      Customer Type  Age   Type of Travel     Class  \\\n",
       "0  WX02553023    Male     Loyal Customer   13  Personal Travel  Eco Plus   \n",
       "1  QS99844747    Male  Disloyal Customer   25  Business travel  Business   \n",
       "2  OL00432935  Female     Loyal Customer   26  Business travel  Business   \n",
       "3  CM55347278  Female     Loyal Customer   25  Business travel  Business   \n",
       "4  TZ46480191    Male     Loyal Customer   61  Business travel  Business   \n",
       "\n",
       "   Flight Distance  Departure Delay in Minutes  Arrival Delay in Minutes  \\\n",
       "0              460                        25.0                      18.0   \n",
       "1              235                         1.0                       6.0   \n",
       "2             1142                         0.0                       0.0   \n",
       "3              562                        11.0                       9.0   \n",
       "4              214                         0.0                       0.0   \n",
       "\n",
       "   Inflight wifi service  Departure/Arrival time convenient  \\\n",
       "0                      0                                  4   \n",
       "1                      0                                  2   \n",
       "2                      2                                  2   \n",
       "3                      0                                  5   \n",
       "4                      3                                  3   \n",
       "\n",
       "   Ease of Online booking  Food and drink  Seat comfort  \\\n",
       "0                       3               0             5   \n",
       "1                       3               1             1   \n",
       "2                       2               5             5   \n",
       "3                       5               2             2   \n",
       "4                       3               4             5   \n",
       "\n",
       "   Inflight entertainment  Baggage handling  Checkin service  \\\n",
       "0                       5                 0                0   \n",
       "1                       1                 1                1   \n",
       "2                       5                 4                4   \n",
       "3                       2                 1                1   \n",
       "4                       3                 4                3   \n",
       "\n",
       "   Inflight service  Cleanliness             satisfaction  \n",
       "0                 5            0  neutral or dissatisfied  \n",
       "1                 0            1  neutral or dissatisfied  \n",
       "2                 4            5                satisfied  \n",
       "3                 0            2  neutral or dissatisfied  \n",
       "4                 3            3                satisfied  "
      ]
     },
     "execution_count": 3,
     "metadata": {},
     "output_type": "execute_result"
    }
   ],
   "source": [
    "#Hiển thị 5 bản ghi đầu tiên của dữ liệu:\n",
    "df_passenger.head()"
   ]
  },
  {
   "cell_type": "code",
   "execution_count": 4,
   "id": "8d6aa836",
   "metadata": {
    "scrolled": true
   },
   "outputs": [
    {
     "data": {
      "text/html": [
       "<div>\n",
       "<style scoped>\n",
       "    .dataframe tbody tr th:only-of-type {\n",
       "        vertical-align: middle;\n",
       "    }\n",
       "\n",
       "    .dataframe tbody tr th {\n",
       "        vertical-align: top;\n",
       "    }\n",
       "\n",
       "    .dataframe thead th {\n",
       "        text-align: right;\n",
       "    }\n",
       "</style>\n",
       "<table border=\"1\" class=\"dataframe\">\n",
       "  <thead>\n",
       "    <tr style=\"text-align: right;\">\n",
       "      <th></th>\n",
       "      <th>Code</th>\n",
       "      <th>Gender</th>\n",
       "      <th>Customer Type</th>\n",
       "      <th>Age</th>\n",
       "      <th>Type of Travel</th>\n",
       "      <th>Class</th>\n",
       "      <th>Flight Distance</th>\n",
       "      <th>Departure Delay in Minutes</th>\n",
       "      <th>Arrival Delay in Minutes</th>\n",
       "      <th>Inflight wifi service</th>\n",
       "      <th>Departure/Arrival time convenient</th>\n",
       "      <th>Ease of Online booking</th>\n",
       "      <th>Food and drink</th>\n",
       "      <th>Seat comfort</th>\n",
       "      <th>Inflight entertainment</th>\n",
       "      <th>Baggage handling</th>\n",
       "      <th>Checkin service</th>\n",
       "      <th>Inflight service</th>\n",
       "      <th>Cleanliness</th>\n",
       "      <th>satisfaction</th>\n",
       "    </tr>\n",
       "  </thead>\n",
       "  <tbody>\n",
       "    <tr>\n",
       "      <th>129870</th>\n",
       "      <td>FT08787333</td>\n",
       "      <td>Male</td>\n",
       "      <td>Disloyal Customer</td>\n",
       "      <td>34</td>\n",
       "      <td>Business travel</td>\n",
       "      <td>Business</td>\n",
       "      <td>526</td>\n",
       "      <td>0.0</td>\n",
       "      <td>0.0</td>\n",
       "      <td>3</td>\n",
       "      <td>3</td>\n",
       "      <td>3</td>\n",
       "      <td>4</td>\n",
       "      <td>4</td>\n",
       "      <td>4</td>\n",
       "      <td>4</td>\n",
       "      <td>4</td>\n",
       "      <td>5</td>\n",
       "      <td>4</td>\n",
       "      <td>neutral or dissatisfied</td>\n",
       "    </tr>\n",
       "    <tr>\n",
       "      <th>129871</th>\n",
       "      <td>PO34507015</td>\n",
       "      <td>Male</td>\n",
       "      <td>Loyal Customer</td>\n",
       "      <td>23</td>\n",
       "      <td>Business travel</td>\n",
       "      <td>Business</td>\n",
       "      <td>646</td>\n",
       "      <td>0.0</td>\n",
       "      <td>0.0</td>\n",
       "      <td>4</td>\n",
       "      <td>4</td>\n",
       "      <td>4</td>\n",
       "      <td>4</td>\n",
       "      <td>4</td>\n",
       "      <td>4</td>\n",
       "      <td>5</td>\n",
       "      <td>5</td>\n",
       "      <td>5</td>\n",
       "      <td>4</td>\n",
       "      <td>satisfied</td>\n",
       "    </tr>\n",
       "    <tr>\n",
       "      <th>129872</th>\n",
       "      <td>ZI79990801</td>\n",
       "      <td>Female</td>\n",
       "      <td>Loyal Customer</td>\n",
       "      <td>17</td>\n",
       "      <td>Personal Travel</td>\n",
       "      <td>Eco</td>\n",
       "      <td>828</td>\n",
       "      <td>0.0</td>\n",
       "      <td>0.0</td>\n",
       "      <td>2</td>\n",
       "      <td>5</td>\n",
       "      <td>1</td>\n",
       "      <td>2</td>\n",
       "      <td>2</td>\n",
       "      <td>2</td>\n",
       "      <td>4</td>\n",
       "      <td>5</td>\n",
       "      <td>4</td>\n",
       "      <td>2</td>\n",
       "      <td>neutral or dissatisfied</td>\n",
       "    </tr>\n",
       "    <tr>\n",
       "      <th>129873</th>\n",
       "      <td>TN82785469</td>\n",
       "      <td>Male</td>\n",
       "      <td>Loyal Customer</td>\n",
       "      <td>14</td>\n",
       "      <td>Business travel</td>\n",
       "      <td>Business</td>\n",
       "      <td>1127</td>\n",
       "      <td>0.0</td>\n",
       "      <td>0.0</td>\n",
       "      <td>3</td>\n",
       "      <td>3</td>\n",
       "      <td>3</td>\n",
       "      <td>4</td>\n",
       "      <td>4</td>\n",
       "      <td>4</td>\n",
       "      <td>5</td>\n",
       "      <td>4</td>\n",
       "      <td>5</td>\n",
       "      <td>4</td>\n",
       "      <td>satisfied</td>\n",
       "    </tr>\n",
       "    <tr>\n",
       "      <th>129874</th>\n",
       "      <td>QY90921876</td>\n",
       "      <td>Female</td>\n",
       "      <td>Loyal Customer</td>\n",
       "      <td>42</td>\n",
       "      <td>Personal Travel</td>\n",
       "      <td>Eco</td>\n",
       "      <td>264</td>\n",
       "      <td>0.0</td>\n",
       "      <td>0.0</td>\n",
       "      <td>2</td>\n",
       "      <td>5</td>\n",
       "      <td>2</td>\n",
       "      <td>4</td>\n",
       "      <td>2</td>\n",
       "      <td>1</td>\n",
       "      <td>1</td>\n",
       "      <td>1</td>\n",
       "      <td>1</td>\n",
       "      <td>1</td>\n",
       "      <td>neutral or dissatisfied</td>\n",
       "    </tr>\n",
       "  </tbody>\n",
       "</table>\n",
       "</div>"
      ],
      "text/plain": [
       "              Code  Gender      Customer Type  Age   Type of Travel     Class  \\\n",
       "129870  FT08787333    Male  Disloyal Customer   34  Business travel  Business   \n",
       "129871  PO34507015    Male     Loyal Customer   23  Business travel  Business   \n",
       "129872  ZI79990801  Female     Loyal Customer   17  Personal Travel       Eco   \n",
       "129873  TN82785469    Male     Loyal Customer   14  Business travel  Business   \n",
       "129874  QY90921876  Female     Loyal Customer   42  Personal Travel       Eco   \n",
       "\n",
       "        Flight Distance  Departure Delay in Minutes  Arrival Delay in Minutes  \\\n",
       "129870              526                         0.0                       0.0   \n",
       "129871              646                         0.0                       0.0   \n",
       "129872              828                         0.0                       0.0   \n",
       "129873             1127                         0.0                       0.0   \n",
       "129874              264                         0.0                       0.0   \n",
       "\n",
       "        Inflight wifi service  Departure/Arrival time convenient  \\\n",
       "129870                      3                                  3   \n",
       "129871                      4                                  4   \n",
       "129872                      2                                  5   \n",
       "129873                      3                                  3   \n",
       "129874                      2                                  5   \n",
       "\n",
       "        Ease of Online booking  Food and drink  Seat comfort  \\\n",
       "129870                       3               4             4   \n",
       "129871                       4               4             4   \n",
       "129872                       1               2             2   \n",
       "129873                       3               4             4   \n",
       "129874                       2               4             2   \n",
       "\n",
       "        Inflight entertainment  Baggage handling  Checkin service  \\\n",
       "129870                       4                 4                4   \n",
       "129871                       4                 5                5   \n",
       "129872                       2                 4                5   \n",
       "129873                       4                 5                4   \n",
       "129874                       1                 1                1   \n",
       "\n",
       "        Inflight service  Cleanliness             satisfaction  \n",
       "129870                 5            4  neutral or dissatisfied  \n",
       "129871                 5            4                satisfied  \n",
       "129872                 4            2  neutral or dissatisfied  \n",
       "129873                 5            4                satisfied  \n",
       "129874                 1            1  neutral or dissatisfied  "
      ]
     },
     "execution_count": 4,
     "metadata": {},
     "output_type": "execute_result"
    }
   ],
   "source": [
    "#Hiển thị 5 bản ghi cuối cùng của dữ liệu:\n",
    "df_passenger.tail()"
   ]
  },
  {
   "cell_type": "code",
   "execution_count": null,
   "id": "37e770fa",
   "metadata": {},
   "outputs": [],
   "source": []
  },
  {
   "cell_type": "code",
   "execution_count": null,
   "id": "eaf2006f",
   "metadata": {},
   "outputs": [],
   "source": [
    "#Quan sát các đặc trưng thống kê số:\n",
    "df_passenger.describe()"
   ]
  },
  {
   "cell_type": "code",
   "execution_count": null,
   "id": "621c2609",
   "metadata": {},
   "outputs": [],
   "source": [
    "#Quan sát các đặc trưng thống kê object:\n",
    "df_passenger.describe(include='O')"
   ]
  },
  {
   "cell_type": "markdown",
   "id": "18e9fdae",
   "metadata": {},
   "source": [
    "# 2. Thống kê thông số của hành khách thực hiện Khảo sát\n",
    "---\n",
    "Thống kê thông số đặc trưng của Hành Khách, hiểu về Tập dữ liệu hành khách đã thực hiện khảo sát."
   ]
  },
  {
   "cell_type": "markdown",
   "id": "ee6daf04",
   "metadata": {},
   "source": [
    "**Tổng quan về hành khách tham gia khảo sát:**\n",
    "---"
   ]
  },
  {
   "cell_type": "code",
   "execution_count": null,
   "id": "9bc503a6",
   "metadata": {},
   "outputs": [],
   "source": [
    "print('\\n 1. Thống kê theo giới tính:')\n",
    "gender = df_passenger['Gender'].value_counts()\n",
    "print(gender)\n",
    "\n",
    "print('\\n 2.Thống kê theo phân loại khách:')\n",
    "customertype = df_passenger['Customer Type'].value_counts()\n",
    "print(customertype)\n",
    "\n",
    "print('\\n 3.Thống kê theo mục đích chuyến đi:')\n",
    "typeoftravel = df_passenger['Type of Travel'].value_counts()\n",
    "print(typeoftravel)\n",
    "\n",
    "print('\\n 4.Thống kê theo hạng vé:')\n",
    "classticket = df_passenger['Class'].value_counts()\n",
    "print(classticket)"
   ]
  },
  {
   "cell_type": "code",
   "execution_count": null,
   "id": "bbd8c332",
   "metadata": {},
   "outputs": [],
   "source": [
    "#xây dựng một số hàm vẽ biểu đồ:\n",
    "#Hàm hiển thị text trên biểu đồ cột:\n",
    "def label_bar(bar_plot,bar_label):\n",
    "    for idx,rect in enumerate(bar_plot):\n",
    "        height = rect.get_height()\n",
    "        plt.text(rect.get_x() + rect.get_width()/2., 1.005*height,\n",
    "                bar_label[idx],\n",
    "                ha='center', va='bottom', rotation=0)\n",
    "\n",
    "#Hàm vẽ biểu đồ hình cột:\n",
    "def plot_bar(r,h,p,x,y,c):\n",
    "    plt.subplot(r,h,p)\n",
    "    ax1 = plt.bar(x,y,color=c)\n",
    "    label_bar(ax1,y)\n",
    "    plt.grid(ls='--')\n",
    "\n",
    "\n",
    "#Hàm vẽ biểu đồ hình tròn:\n",
    "def plot_pie(r,h,p,label,value,c):\n",
    "    plt.subplot(r,h,p)\n",
    "    plt.pie(value,\n",
    "            labels=label,\n",
    "            colors=c,\n",
    "            startangle=90,\n",
    "            labeldistance=1.1,\n",
    "            pctdistance=0.6, \n",
    "            wedgeprops=dict(width=0.7,edgecolor='w'),\n",
    "            autopct='%.2f %%')"
   ]
  },
  {
   "cell_type": "code",
   "execution_count": null,
   "id": "929e9634",
   "metadata": {},
   "outputs": [],
   "source": [
    "#Trực quan hóa dữ liệu:\n",
    "plt.figure(figsize=(18,8))\n",
    "\n",
    "#Lấy bảng màu\n",
    "color1=sns.color_palette()\n",
    "color2=sns.color_palette(\"husl\")\n",
    "color3=sns.color_palette(\"Set2\")\n",
    "color4=sns.color_palette(\"pastel\")\n",
    "\n",
    "#Trực quan hóa số liệu giới tính:\n",
    "plot_bar(2,4,1,gender.index,gender.values,color1)\n",
    "plot_pie(2,4,5,gender.index,gender.values,color1)\n",
    "\n",
    "#Trực quan hóa số liệu phân loại khách:\n",
    "plot_bar(2,4,2,customertype.index,customertype.values,color2)\n",
    "plot_pie(2,4,6,customertype.index,customertype.values,color2)\n",
    "\n",
    "#Trực quan hóa số liệu mục đích chuyến bay:\n",
    "plot_bar(2,4,3,typeoftravel.index,typeoftravel.values,color3)\n",
    "plot_pie(2,4,7,typeoftravel.index,typeoftravel.values,color3)\n",
    "\n",
    "#Trực quan hóa số liệu hạng vé hành khách:\n",
    "plot_bar(2,4,4,classticket.index,classticket.values,color4)\n",
    "plot_pie(2,4,8,classticket.index,classticket.values,color4)\n",
    "\n",
    "plt.show()"
   ]
  },
  {
   "cell_type": "code",
   "execution_count": null,
   "id": "fc1a2c75",
   "metadata": {},
   "outputs": [],
   "source": []
  },
  {
   "cell_type": "markdown",
   "id": "c34cb787",
   "metadata": {},
   "source": [
    "**NHẬN XÉT:**\n",
    "\n",
    "0. Tổng số hành khách thực hiện lấy khảo sát: 129875 \n",
    "1. Tỷ lệ khách lấy khảo sát theo giới tính là tương đối cân bằng: ~50% Male ~ 50% Female\n",
    "2. ~80% hành khách thực hiện khảo sát là hành khách đã sử dụng dịch vụ bay của hãng từ >=2 lần.\n",
    "3. ~70% hành khách khảo sát sử dụng dịch vụ bay cho mục đích công việc, 30% cho mục đích cá nhân.\n",
    "4. Hành khách lấy khảo sát chủ yếu mua vé hạng thương gia (Business - 48%) và phổ thông (Eco - 45%), vé hạng Eco plus chiếm tỷ lệ nhỏ (~7%) "
   ]
  },
  {
   "cell_type": "code",
   "execution_count": null,
   "id": "a44ea875",
   "metadata": {},
   "outputs": [],
   "source": []
  },
  {
   "cell_type": "code",
   "execution_count": null,
   "id": "1d68e209",
   "metadata": {},
   "outputs": [],
   "source": [
    "#Thống kê số liệu hành khách theo độ tuổi:\n",
    "df_passenger['Age'].describe()"
   ]
  },
  {
   "cell_type": "code",
   "execution_count": null,
   "id": "aa105c19",
   "metadata": {},
   "outputs": [],
   "source": [
    "#Sử dụng biểu đồ Histogram để trực quan hóa dữ liệu độ tuổi\n",
    "plt.figure(figsize=(15,5))\n",
    "plt.hist(df_passenger['Age'],bins=[0,10,20,30,40,50,60,70,85],color='g')\n",
    "plt.xticks([0,10,20,30,40,50,60,70,85])\n",
    "plt.grid(ls='--')\n",
    "plt.title('BIỂU ĐỒ TẦN SUẤT THEO ĐỘ TUỔI CỦA HÀNH KHÁCH LẤY KHẢO SÁT',fontsize=20)\n",
    "plt.show()"
   ]
  },
  {
   "cell_type": "markdown",
   "id": "acb4eb97",
   "metadata": {},
   "source": [
    "**NHẬN XÉT:**\n",
    "- Độ tuổi trung bình của hành khách lấy khảo sát là ~40 tuổi.\n",
    "- Hành khách nhỏ tuổi nhất lấy khảo sát: 7 tuổi\n",
    "- Hành khách cao tuổi nhất lấy khảo sát: 85 tuổi\n",
    "- Độ tuổi Hành khách lấy khảo sát chủ yếu tập trung trong khoảng từ 18 - 60"
   ]
  },
  {
   "cell_type": "code",
   "execution_count": null,
   "id": "f08ae306",
   "metadata": {},
   "outputs": [],
   "source": []
  },
  {
   "cell_type": "code",
   "execution_count": null,
   "id": "4672443b",
   "metadata": {},
   "outputs": [],
   "source": [
    "#Thống kê kết quả tổng quan đánh giá mức độ hài lòng của hành khách:\n",
    "satisfaction = df_passenger['satisfaction'].value_counts()\n",
    "\n",
    "#Trực quan hóa dữ liệu \n",
    "plt.figure(figsize=(15,5))\n",
    "color = sns.color_palette()\n",
    "\n",
    "plt.subplot(1,2,1)\n",
    "plt.pie(satisfaction.values,\n",
    "        labels=satisfaction.index,\n",
    "        colors=color,\n",
    "        startangle=90,\n",
    "        wedgeprops=dict(width=0.7,edgecolor='w'),\n",
    "        autopct='%.2f %%')\n",
    "\n",
    "plt.subplot(1,2,2)\n",
    "bar = plt.bar(satisfaction.index,satisfaction.values,color=color)\n",
    "label_bar(bar,satisfaction.values)\n",
    "plt.grid(ls='--')\n",
    "\n",
    "plt.suptitle('THỐNG KÊ MỨC ĐỘ HÀI LÒNG CỦA KHÁCH THỰC HIỆN KHẢO SÁT',fontsize=16)\n",
    "plt.show()"
   ]
  },
  {
   "cell_type": "markdown",
   "id": "86d58234",
   "metadata": {},
   "source": [
    "**NHẬN XÉT:**\n",
    "- Tỷ lệ hành khách khảo sát có đánh giá tổng quan là bình thường hoặc không hài lòng (KHÔNG HÀI LÒNG) với các dịch vụ là 73450 chiếm khoảng ~57%; lượng khách đánh giá HÀI LÒNG là 56425 chiếm ~43%."
   ]
  },
  {
   "cell_type": "code",
   "execution_count": null,
   "id": "76100c1b",
   "metadata": {},
   "outputs": [],
   "source": []
  },
  {
   "cell_type": "markdown",
   "id": "feffeaa8",
   "metadata": {},
   "source": [
    "# 4. Thực hiện phân tích dữ liệu\n",
    "---\n",
    "## 4.1 Lọc dữ liệu và thống kê"
   ]
  },
  {
   "cell_type": "markdown",
   "id": "7b3dd2fe",
   "metadata": {},
   "source": [
    "## Tập trung vào nhóm khách hàng không hài lòng với dịch vụ của Hãng \n",
    "---\n",
    "\n",
    "Trong bảng khảo sát bao gồm 10 dịch vụ sau: \n",
    "1. Inflight wifi service: Dịch vụ wifi trên chuyến bay\n",
    "2. Departure/Arrival time convenient: Mức độ thuận tiện trong thời gian ở Ga khởi hành| Ga đến\n",
    "3. Ease of Online booking: Mức độ dễ đàng khi đặt vé Online\n",
    "4. Food and drink: Đồ ăn và đồ uống phục vụ trên chuyến bay\n",
    "5. Seat comfort: Sự thoải mái của chỗ ngồi\n",
    "6. Inflight entertainment: Dịch vụ giải trí trên chuyến bay\n",
    "7. Baggage handling: Vấn đề liên quan đến hành lý\n",
    "8. Checkin service: Dịch vụ checkin\n",
    "9. Inflight service: Dịch vụ khác trên chuyến bay\n",
    "10. Cleanliness: Vệ sinh trên chuyến bay\n",
    "\n",
    "Chúng ta sẽ thực hiện thống số liệu với các dịch vụ này, chỉ tập trung vào nhóm KHÔNG HÀI LÒNG --> Xác định kết quả và đánh giá các dịch vụ quan trọng ảnh hưởng đến sự hài lòng của hành khách."
   ]
  },
  {
   "cell_type": "code",
   "execution_count": null,
   "id": "874c17f2",
   "metadata": {},
   "outputs": [],
   "source": [
    "#KẾT QUẢ ĐÁNH GIÁ CỦA HÀNH KHÁCH: \n",
    "plt.figure(figsize=(15,5))\n",
    "plot_pie(1,2,1,satisfaction.index,satisfaction.values,color1)\n",
    "plot_bar(1,2,2,satisfaction.index,satisfaction.values,color1)\n",
    "plt.show()"
   ]
  },
  {
   "cell_type": "code",
   "execution_count": null,
   "id": "9d166c7c",
   "metadata": {},
   "outputs": [],
   "source": [
    "#Lọc lấy các hành khách có đánh giá chung là KHÔNG HÀI LÒNG:\n",
    "df_passenger_no = df_passenger[df_passenger['satisfaction']=='neutral or dissatisfied']\n",
    "df_passenger_no.reset_index(drop=True, inplace=True)\n",
    "df_passenger_no.info()"
   ]
  },
  {
   "cell_type": "code",
   "execution_count": null,
   "id": "e336a8c6",
   "metadata": {},
   "outputs": [],
   "source": [
    "#Danh sách khách hàng đánh giá bình thường hoặc ko hài lòng:\n",
    "df_passenger_no"
   ]
  },
  {
   "cell_type": "code",
   "execution_count": null,
   "id": "870039d6",
   "metadata": {},
   "outputs": [],
   "source": []
  },
  {
   "cell_type": "code",
   "execution_count": null,
   "id": "11f99ef4",
   "metadata": {},
   "outputs": [],
   "source": []
  },
  {
   "cell_type": "code",
   "execution_count": null,
   "id": "c64333c8",
   "metadata": {},
   "outputs": [],
   "source": [
    "# Thống kê số liệu nhóm hành khách không hài lòng với dịch vụ của hãng\n",
    "gender_no = df_passenger_no['Gender'].value_counts()\n",
    "customertype_no = df_passenger_no['Customer Type'].value_counts()\n",
    "typeoftravel_no = df_passenger_no['Type of Travel'].value_counts()\n",
    "classticket_no = df_passenger_no['Class'].value_counts()\n",
    "\n",
    "#Trực quan hóa dữ liệu:\n",
    "plt.figure(figsize=(18,8))\n",
    "\n",
    "#Trực quan hóa số liệu giới tính:\n",
    "plot_bar(2,4,1,gender_no.index,gender_no.values,color1)\n",
    "plot_pie(2,4,5,gender_no.index,gender_no.values,color1)\n",
    "\n",
    "#Trực quan hóa số liệu phân loại khách:\n",
    "plot_bar(2,4,2,customertype_no.index,customertype_no.values,color2)\n",
    "plot_pie(2,4,6,customertype_no.index,customertype_no.values,color2)\n",
    "\n",
    "#Trực quan hóa số liệu mục đích chuyến bay:\n",
    "plot_bar(2,4,3,typeoftravel_no.index,typeoftravel_no.values,color3)\n",
    "plot_pie(2,4,7,typeoftravel_no.index,typeoftravel_no.values,color3)\n",
    "\n",
    "#Trực quan hóa số liệu hạng vé hành khách:\n",
    "plot_bar(2,4,4,classticket_no.index,classticket_no.values,color4)\n",
    "plot_pie(2,4,8,classticket_no.index,classticket_no.values,color4)\n",
    "\n",
    "plt.show()"
   ]
  },
  {
   "cell_type": "markdown",
   "id": "448e965e",
   "metadata": {},
   "source": [
    "**NHẬN XÉT:**\n",
    "\n",
    "1. Có 73450/129875 hành khách đánh giá không hài lòng với các dịch vụ của hãng bay.(chiếm 56.55%)\n",
    "2. Tỷ lệ khách không hàng hài lòng với dịch vụ có sự cân bằng tương đối về giới tính (51% Nam - 49% Nữ)\n",
    "3. 75% hành khách không hài lòng với dịch vụ thuộc nhóm khách hàng thân thiết (Loyal Customer) - 25% thuộc nhóm khách hàng sử dụng lần đầu.\n",
    "4. Nhóm không hài lòng có sự cân bằng về mục đích ~50% hành khách đi máy bay với mục đích công việc, ~50% đi với mục đích cá nhân.\n",
    "5. Nhóm hành khách không hài lòng chủ yếu mua vé hạng phổ thông (Eco) chiếm ~65%, tiếp đến là hạng thương gia (Business) chiếm 26%\n"
   ]
  },
  {
   "cell_type": "markdown",
   "id": "a59e71ef",
   "metadata": {},
   "source": [
    "## 4.2 Phân tích số liệu cho từng dịch vụ\n",
    "---\n",
    "### 1. Dịch vụ wifi trên máy bay: Inflight wifi service"
   ]
  },
  {
   "cell_type": "code",
   "execution_count": null,
   "id": "9b5444ea",
   "metadata": {},
   "outputs": [],
   "source": [
    "#Thống kê số liệu đánh giá dịch vụ Wifi\n",
    "wifiservice = df_passenger_no['Inflight wifi service'].value_counts()\n",
    "\n",
    "#Trực quan hóa dữ liệu \n",
    "plt.figure(figsize=(15,5))\n",
    "\n",
    "plot_pie(1,2,1,wifiservice.index,wifiservice.values,color1)\n",
    "plot_bar(1,2,2,wifiservice.index,wifiservice.values,color1)\n",
    "\n",
    "plt.suptitle('KẾT QUẢ KHẢO SÁT VỀ DỊCH VỤ WIFI TRÊN MÁY BAY',fontsize=16)\n",
    "plt.show()"
   ]
  },
  {
   "cell_type": "code",
   "execution_count": null,
   "id": "cd5be94f",
   "metadata": {},
   "outputs": [],
   "source": [
    "#Điểm trung bình hành khách chấm cho dịch vụ:\n",
    "round(df_passenger_no['Inflight wifi service'].mean(),1)"
   ]
  },
  {
   "cell_type": "markdown",
   "id": "e60bd42a",
   "metadata": {},
   "source": [
    "**NHẬN XÉT:**\n",
    "---\n",
    "* Dịch vụ Wifi ảnh hưởng lớn tới mức độ hài lòng của Hành khách, Nhóm hành khách không hài lòng đều đánh giá điểm dịch vụ này thấp (<=3 điểm);\n",
    "\n",
    "* Điểm trung bình hành khách đánh giá cho dịch vụ này 1.8 điểm"
   ]
  },
  {
   "cell_type": "code",
   "execution_count": null,
   "id": "2202edc2",
   "metadata": {},
   "outputs": [],
   "source": []
  },
  {
   "cell_type": "markdown",
   "id": "7bd48a4c",
   "metadata": {},
   "source": [
    "### 2. Mức độ thoải mái ở ga khởi hành và ga đến: Departure/Arrival time convenient"
   ]
  },
  {
   "cell_type": "code",
   "execution_count": null,
   "id": "f05d6530",
   "metadata": {},
   "outputs": [],
   "source": [
    "#Thống kê số liệu đánh giá:\n",
    "convenient = df_passenger_no['Departure/Arrival time convenient'].value_counts()\n",
    "\n",
    "#Trực quan hóa dữ liệu \n",
    "plt.figure(figsize=(15,5))\n",
    "plot_pie(1,2,1,convenient.index,convenient.values,color2)\n",
    "plot_bar(1,2,2,convenient.index,convenient.values,color2)\n",
    "\n",
    "plt.suptitle('KẾT QUẢ KHẢO SÁT VỀ MỨC ĐỘ THOẢI MÁI TẠI GA ĐI VÀ ĐẾN',fontsize=16)\n",
    "plt.show()"
   ]
  },
  {
   "cell_type": "code",
   "execution_count": null,
   "id": "0f4816fe",
   "metadata": {},
   "outputs": [],
   "source": [
    "#Điểm trung bình hành khách chấm cho dịch vụ:\n",
    "round(df_passenger_no['Departure/Arrival time convenient'].mean(),1)"
   ]
  },
  {
   "cell_type": "markdown",
   "id": "ebfcf51a",
   "metadata": {},
   "source": [
    "**NHẬN XÉT:**\n",
    "---\n",
    "* Mức độ thoải mái tại ga đi và đến được đánh giá cao (>=3 điểm), nhưng kết luận cuối cùng Hành khách vẫn đánh giá là 'KHÔNG HÀI LÒNG' ==> Yếu tố này ít ảnh hưởng tới hài lòng của hành khách.\n",
    "\n",
    "* Điểm trung bình hành khách đánh giá cho dịch vụ này 3.1 điểm"
   ]
  },
  {
   "cell_type": "code",
   "execution_count": null,
   "id": "a4aaab71",
   "metadata": {},
   "outputs": [],
   "source": []
  },
  {
   "cell_type": "markdown",
   "id": "e742a160",
   "metadata": {},
   "source": [
    "### 3. Dịch vụ đặt vé Online: Ease of Online booking"
   ]
  },
  {
   "cell_type": "code",
   "execution_count": null,
   "id": "a1fe320d",
   "metadata": {
    "scrolled": true
   },
   "outputs": [],
   "source": [
    "#Thống kê số liệu:\n",
    "booking = df_passenger_no['Ease of Online booking'].value_counts()\n",
    "\n",
    "#Trực quan hóa dữ liệu \n",
    "plt.figure(figsize=(15,5))\n",
    "\n",
    "plot_pie(1,2,1,booking.index,booking.values,color3)\n",
    "plot_bar(1,2,2,booking.index,booking.values,color3)\n",
    "\n",
    "plt.suptitle('KẾT QUẢ KHẢO SÁT VỀ DỊCH VỤ BOOK VÉ ONLINE',fontsize=16)\n",
    "plt.show()"
   ]
  },
  {
   "cell_type": "code",
   "execution_count": null,
   "id": "156389a9",
   "metadata": {},
   "outputs": [],
   "source": [
    "#Điểm trung bình hành khách chấm cho dịch vụ:\n",
    "round(df_passenger_no['Ease of Online booking'].mean(),1)"
   ]
  },
  {
   "cell_type": "markdown",
   "id": "12c05181",
   "metadata": {},
   "source": [
    "**NHẬN XÉT:**\n",
    "---\n",
    "* Yếu tố đặt vé Online có dễ dàng hay không cũng ảnh hưởng tới cảm nhận của Hành khách, nhưng mức độ ảnh hưởng không cao. Điểm đánh giá cho yếu tố này ở mức trung bình chủ yếu là 2, 3 điểm\n",
    "\n",
    "* Điểm trung bình hành khách đánh giá cho dịch vụ này 2.5 điểm"
   ]
  },
  {
   "cell_type": "code",
   "execution_count": null,
   "id": "c91ed1b7",
   "metadata": {},
   "outputs": [],
   "source": []
  },
  {
   "cell_type": "markdown",
   "id": "f6500816",
   "metadata": {},
   "source": [
    "### 4.Dịch vụ Ăn uống trên máy bay: Food and drink"
   ]
  },
  {
   "cell_type": "code",
   "execution_count": null,
   "id": "b4c5746e",
   "metadata": {},
   "outputs": [],
   "source": [
    "#Thống kê số liệu:\n",
    "food_drink = df_passenger_no['Food and drink'].value_counts()\n",
    "\n",
    "#Trực quan hóa dữ liệu \n",
    "plt.figure(figsize=(15,5))\n",
    "\n",
    "plot_pie(1,2,1,food_drink.index,food_drink.values,color1)\n",
    "plot_bar(1,2,2,food_drink.index,food_drink.values,color1)\n",
    "\n",
    "plt.suptitle('KẾT QUẢ KHẢO SÁT VỀ DỊCH VỤ ĐỒ ĂN, UỐNG TRÊN MÁY BAY',fontsize=16)\n",
    "plt.show()"
   ]
  },
  {
   "cell_type": "code",
   "execution_count": null,
   "id": "02d82f53",
   "metadata": {},
   "outputs": [],
   "source": [
    "#Điểm trung bình hành khách chấm cho dịch vụ:\n",
    "round(df_passenger_no['Food and drink'].mean(),1)"
   ]
  },
  {
   "cell_type": "markdown",
   "id": "a411072a",
   "metadata": {},
   "source": [
    "**NHẬN XÉT:**\n",
    "---\n",
    "* Dịch vụ ăn uống trên chuyến bay là một trong những yếu tố ảnh hưởng lớn tới mức độ hài lòng của Hành khách, Đa số Nhóm hành khách không hài lòng đều đánh giá điểm dịch vụ này thấp (<=3 điểm);\n",
    "\n",
    "* Điểm trung bình hành khách đánh giá cho dịch vụ này 1.8 điểm"
   ]
  },
  {
   "cell_type": "code",
   "execution_count": null,
   "id": "1756543a",
   "metadata": {},
   "outputs": [],
   "source": []
  },
  {
   "cell_type": "markdown",
   "id": "c9a6de10",
   "metadata": {},
   "source": [
    "### 5.Thoải mái của chỗ ngồi trên máy bay: Seat comfort"
   ]
  },
  {
   "cell_type": "code",
   "execution_count": null,
   "id": "55af92f3",
   "metadata": {},
   "outputs": [],
   "source": [
    "# Thống kê số liệu\n",
    "seat_comfort = df_passenger_no['Seat comfort'].value_counts()\n",
    "\n",
    "#Trực quan hóa dữ liệu \n",
    "plt.figure(figsize=(15,5))\n",
    "plot_pie(1,2,1,seat_comfort.index,seat_comfort.values,color1)\n",
    "plot_bar(1,2,2,seat_comfort.index,seat_comfort.values,color1)\n",
    "\n",
    "plt.suptitle('KẾT QUẢ KHẢO SÁT VỀ SỰ THOẢI MÁI GHẾ NGỒI TRÊN MÁY BAY',fontsize=16)\n",
    "plt.show()"
   ]
  },
  {
   "cell_type": "code",
   "execution_count": null,
   "id": "be7819f4",
   "metadata": {},
   "outputs": [],
   "source": [
    "#Điểm trung bình hành khách chấm cho dịch vụ:\n",
    "round(df_passenger_no['Seat comfort'].mean(),1)"
   ]
  },
  {
   "cell_type": "markdown",
   "id": "f75b9b84",
   "metadata": {},
   "source": [
    "**NHẬN XÉT:**\n",
    "---\n",
    "* Điểm đánh giá mức độ thoải mái của chỗ ngồi trên chuyến bay trải khá đều trong khoảng 0-5, cho thấy mức độ ảnh hưởng của yếu này tới đánh giá chung của Hành khách không nhiều;\n",
    "\n",
    "* Điểm trung bình hành khách đánh giá cho dịch vụ này 2.8 điểm"
   ]
  },
  {
   "cell_type": "code",
   "execution_count": null,
   "id": "9652553d",
   "metadata": {},
   "outputs": [],
   "source": []
  },
  {
   "cell_type": "markdown",
   "id": "4a40b3a8",
   "metadata": {},
   "source": [
    "### 6.Giải trí trên máy bay: Inflight entertainment"
   ]
  },
  {
   "cell_type": "code",
   "execution_count": null,
   "id": "44a57219",
   "metadata": {},
   "outputs": [],
   "source": [
    "# Thống kê số liệu đánh giá\n",
    "Inflight_entertainment = df_passenger_no['Inflight entertainment'].value_counts()\n",
    "\n",
    "#Trực quan hóa dữ liệu \n",
    "plt.figure(figsize=(15,5))\n",
    "\n",
    "plot_pie(1,2,1,Inflight_entertainment.index,Inflight_entertainment.values,color1)\n",
    "plot_bar(1,2,2,Inflight_entertainment.index,Inflight_entertainment.values,color1)\n",
    "\n",
    "plt.suptitle('KẾT QUẢ KHẢO SÁT VỀ DỊCH VỤ GIẢI TRÍ TRÊN MÁY BAY',fontsize=16)\n",
    "plt.show()"
   ]
  },
  {
   "cell_type": "code",
   "execution_count": null,
   "id": "2ced8ae8",
   "metadata": {},
   "outputs": [],
   "source": [
    "#Điểm trung bình hành khách chấm cho dịch vụ:\n",
    "round(df_passenger_no['Inflight entertainment'].mean(),1)"
   ]
  },
  {
   "cell_type": "markdown",
   "id": "92c22334",
   "metadata": {},
   "source": [
    "**NHẬN XÉT:**\n",
    "---\n",
    "* Dịch vụ giải trí trên chuyến bay ít ảnh hưởng tới hài lòng của hành khách.\n",
    "\n",
    "* Điểm trung bình hành khách đánh giá cho dịch vụ này 2.9 điểm"
   ]
  },
  {
   "cell_type": "code",
   "execution_count": null,
   "id": "5523b037",
   "metadata": {},
   "outputs": [],
   "source": []
  },
  {
   "cell_type": "markdown",
   "id": "1d833e28",
   "metadata": {},
   "source": [
    "### 7. Vấn đề về hành lý: Baggage handling\n"
   ]
  },
  {
   "cell_type": "code",
   "execution_count": null,
   "id": "70e9921d",
   "metadata": {},
   "outputs": [],
   "source": [
    "#Thông kê số liệu\n",
    "baggage_handling = df_passenger_no['Baggage handling'].value_counts()\n",
    "\n",
    "#Trực quan hóa dữ liệu \n",
    "plt.figure(figsize=(15,5))\n",
    "\n",
    "plot_pie(1,2,1,baggage_handling.index,baggage_handling.values,color1)\n",
    "plot_bar(1,2,2,baggage_handling.index,baggage_handling.values,color1)\n",
    "\n",
    "plt.suptitle('KẾT QUẢ KHẢO SẮT VẤN ĐỀ HÀNH LÝ TRÊN MÁY BAY',fontsize=16)\n",
    "plt.show()"
   ]
  },
  {
   "cell_type": "code",
   "execution_count": null,
   "id": "9705cc53",
   "metadata": {},
   "outputs": [],
   "source": [
    "#Điểm trung bình hành khách chấm cho dịch vụ:\n",
    "round(df_passenger_no['Baggage handling'].mean(),1)"
   ]
  },
  {
   "cell_type": "markdown",
   "id": "7a531163",
   "metadata": {},
   "source": [
    "**NHẬN XÉT:**\n",
    "---\n",
    "* Các Vấn đề liên quan đến hành lý ảnh hưởng lớn tới mức độ hài lòng của Hành khách, Nhóm hành khách không hài lòng đều đánh giá điểm dịch vụ này thấp (<=3 điểm);  1 điểm rất nhiều.\n",
    "\n",
    "* Điểm trung bình hành khách đánh giá cho dịch vụ này 1.7 điểm"
   ]
  },
  {
   "cell_type": "code",
   "execution_count": null,
   "id": "88466551",
   "metadata": {},
   "outputs": [],
   "source": []
  },
  {
   "cell_type": "markdown",
   "id": "872b4393",
   "metadata": {},
   "source": [
    "### 8. Dịch vụ checkin: Checkin service"
   ]
  },
  {
   "cell_type": "code",
   "execution_count": null,
   "id": "f671fa47",
   "metadata": {},
   "outputs": [],
   "source": [
    "# Thống kê số liệu\n",
    "checkin_service = df_passenger_no['Checkin service'].value_counts()\n",
    "\n",
    "#Trực quan hóa dữ liệu \n",
    "plt.figure(figsize=(15,5))\n",
    "\n",
    "plot_pie(1,2,1,checkin_service.index,checkin_service.values,color1)\n",
    "plot_bar(1,2,2,checkin_service.index,checkin_service.values,color1)\n",
    "\n",
    "plt.suptitle('KẾT QUẢ KHẢO SÁT DỊCH VỤ CHECKIN CỦA HÀNH KHÁCH',fontsize=16)\n",
    "plt.show()"
   ]
  },
  {
   "cell_type": "code",
   "execution_count": null,
   "id": "ca40e817",
   "metadata": {},
   "outputs": [],
   "source": [
    "#Điểm trung bình hành khách chấm cho dịch vụ:\n",
    "round(df_passenger_no['Checkin service'].mean(),1)"
   ]
  },
  {
   "cell_type": "markdown",
   "id": "24df0eaa",
   "metadata": {},
   "source": [
    "**NHẬN XÉT:**\n",
    "---\n",
    "* Dịch vụ checkin cũng ảnh hưởng lớn tới mức độ hài lòng của Hành khách, Nhóm hành khách không hài lòng đều đánh giá điểm dịch vụ này thấp (<=3 điểm);  chủ yếu là các điểm 0, 1 điểm rất nhiều.\n",
    "\n",
    "* Điểm trung bình hành khách đánh giá cho dịch vụ này 1.9 điểm"
   ]
  },
  {
   "cell_type": "code",
   "execution_count": null,
   "id": "3e56c7de",
   "metadata": {},
   "outputs": [],
   "source": []
  },
  {
   "cell_type": "markdown",
   "id": "32456981",
   "metadata": {},
   "source": [
    "### 9.Vấn đề về các dịch vụ trên chuyến bay: Inflight service"
   ]
  },
  {
   "cell_type": "code",
   "execution_count": null,
   "id": "105586aa",
   "metadata": {},
   "outputs": [],
   "source": [
    "# Thống kê số liệu\n",
    "inflight_service = df_passenger_no['Inflight service'].value_counts()\n",
    "\n",
    "#Trực quan hóa dữ liệu \n",
    "plt.figure(figsize=(15,5))\n",
    "\n",
    "plot_pie(1,2,1,inflight_service.index,inflight_service.values,color1)\n",
    "plot_bar(1,2,2,inflight_service.index,inflight_service.values,color1)\n",
    "\n",
    "plt.suptitle('KẾT QUẢ KHẢO SÁT CÁC DỊCH VỤ CHUNG TRÊN CHUYẾN BAY',fontsize=16)\n",
    "plt.show()"
   ]
  },
  {
   "cell_type": "code",
   "execution_count": null,
   "id": "ad1707f0",
   "metadata": {},
   "outputs": [],
   "source": [
    "#Điểm trung bình hành khách chấm cho dịch vụ:\n",
    "round(df_passenger_no['Inflight service'].mean(),1)"
   ]
  },
  {
   "cell_type": "markdown",
   "id": "6c899427",
   "metadata": {},
   "source": [
    "**NHẬN XÉT:**\n",
    "---\n",
    "* Dịch vụ chung trên chuyến bay ít ảnh hưởng tới hài lòng của hành khách.\n",
    "\n",
    "* Điểm trung bình hành khách đánh giá cho dịch vụ này 3.2 điểm"
   ]
  },
  {
   "cell_type": "code",
   "execution_count": null,
   "id": "e665b2cc",
   "metadata": {},
   "outputs": [],
   "source": []
  },
  {
   "cell_type": "markdown",
   "id": "23923931",
   "metadata": {},
   "source": [
    "### 10.Vấn đề về vệ sinh trên chuyến bay: Cleanliness"
   ]
  },
  {
   "cell_type": "code",
   "execution_count": null,
   "id": "52fb9a68",
   "metadata": {},
   "outputs": [],
   "source": [
    "# Thống kê số liệu\n",
    "cleanliness = df_passenger_no['Cleanliness'].value_counts()\n",
    "\n",
    "#Trực quan hóa dữ liệu \n",
    "plt.figure(figsize=(15,5))\n",
    "\n",
    "plot_pie(1,2,1,cleanliness.index,cleanliness.values,color1)\n",
    "plot_bar(1,2,2,cleanliness.index,cleanliness.values,color1)\n",
    "\n",
    "plt.suptitle('KẾT QUẢ KHẢO SÁT VẤN ĐỀ VỆ SINH TRÊN CHUYẾN BAY',fontsize=16)\n",
    "plt.show()"
   ]
  },
  {
   "cell_type": "code",
   "execution_count": null,
   "id": "4bc5292b",
   "metadata": {},
   "outputs": [],
   "source": [
    "#Điểm trung bình hành khách chấm cho dịch vụ:\n",
    "round(df_passenger_no['Cleanliness'].mean(),1)"
   ]
  },
  {
   "cell_type": "markdown",
   "id": "17c8d574",
   "metadata": {},
   "source": [
    "**NHẬN XÉT:**\n",
    "---\n",
    "* Dịch vụ vệ sinh trên chuyến bay cũng ảnh hưởng tới hài lòng của hành khách nhưng mức độ trung bình.\n",
    "\n",
    "* Điểm trung bình hành khách đánh giá cho dịch vụ này 2.8 điểm"
   ]
  },
  {
   "cell_type": "code",
   "execution_count": null,
   "id": "2102a8d6",
   "metadata": {},
   "outputs": [],
   "source": []
  },
  {
   "cell_type": "code",
   "execution_count": null,
   "id": "f76b5409",
   "metadata": {},
   "outputs": [],
   "source": [
    "#Check đặc trưng thống kê với các thuộc tính khảo sát:\n",
    "df_passenger_no.iloc[:,9:19].mean()"
   ]
  },
  {
   "cell_type": "markdown",
   "id": "26258ae4",
   "metadata": {},
   "source": [
    "**TỔNG HỢP KẾT QUẢ:**\n",
    "---\n",
    "* 10 dịch vụ khảo sát đều ảnh hưởng tới mức độ Không hài lòng của Hành khách. Tuy nhiên, mỗi yếu tố ảnh hưởng nhiều ít khác nhau trong đó:\n",
    "    1. Baggage handling (1.69)\n",
    "    2. Inflight wifi service (1.79)\n",
    "    3. Food and drink (1.83)\n",
    "    4. Checkin service (1.87)\n",
    "    5. Ease of Online booking (2.55)\n",
    "    6. Seat comfort (2.75)\n",
    "    7. Cleanliness (2.81)\n",
    "    8. Inflight entertainment (2.89)\n",
    "    9. Departure/Arrival time convenient (3.13)\n",
    "    10. Inflight service (3.18)\n",
    "    "
   ]
  },
  {
   "cell_type": "code",
   "execution_count": null,
   "id": "8bcb44c9",
   "metadata": {},
   "outputs": [],
   "source": []
  },
  {
   "cell_type": "code",
   "execution_count": null,
   "id": "ee277ead",
   "metadata": {},
   "outputs": [],
   "source": []
  },
  {
   "cell_type": "code",
   "execution_count": null,
   "id": "d38d9ac1",
   "metadata": {},
   "outputs": [],
   "source": []
  },
  {
   "cell_type": "markdown",
   "id": "c52c0136",
   "metadata": {},
   "source": [
    "## [NOTE] Vấn đề trễ chuyến bay (Delay) với sự hài lòng của hành khách!\n",
    "---"
   ]
  },
  {
   "cell_type": "code",
   "execution_count": null,
   "id": "5b879232",
   "metadata": {},
   "outputs": [],
   "source": [
    "#Thống kê thông tin trễ chuyến bay: - Toàn bộ tập dữ liệu:\n",
    "df_passenger[['Departure Delay in Minutes','Arrival Delay in Minutes']].describe()"
   ]
  },
  {
   "cell_type": "code",
   "execution_count": null,
   "id": "ef33fa3e",
   "metadata": {
    "scrolled": true
   },
   "outputs": [],
   "source": [
    "#Thống kê với tập Hành khách không hài lòng:\n",
    "df_passenger_no[['Departure Delay in Minutes', 'Arrival Delay in Minutes']].describe()"
   ]
  },
  {
   "cell_type": "code",
   "execution_count": null,
   "id": "b821787b",
   "metadata": {
    "scrolled": false
   },
   "outputs": [],
   "source": [
    "#Lọc trong dữ liệu các hành khách có chuyến bay khởi hành trễ từ (3h) 180 phút trở lên:\n",
    "df_delay = df_passenger[(df_passenger['Departure Delay in Minutes']>=180)]\n",
    "print('Tổng số hành khách đi các chuyến bay delay >=180 phút:',df_delay.shape[0])\n",
    "df_delay\n"
   ]
  },
  {
   "cell_type": "code",
   "execution_count": null,
   "id": "1da2935e",
   "metadata": {},
   "outputs": [],
   "source": [
    "#Danh sách những hành khách bị trễ bay >=180 phút những vẫn đánh giá hài lòng:\n",
    "df_delay_ok = df_passenger[(df_passenger['Departure Delay in Minutes']>=180) & (df_passenger['satisfaction']=='satisfied')]\n",
    "print('Số hành khách có chuyến bay bị delay>=180 phút nhưng vẫn hài lòng:',df_delay_ok.shape[0],'/',df_delay.shape[0])\n",
    "df_delay_ok"
   ]
  },
  {
   "cell_type": "code",
   "execution_count": null,
   "id": "ae1ca746",
   "metadata": {
    "scrolled": true
   },
   "outputs": [],
   "source": [
    "#Xác định các đặc trưng\n",
    "df_delay_ok.iloc[:,[7,9,10,11,12,13,14,15,16,18]].describe()"
   ]
  },
  {
   "cell_type": "code",
   "execution_count": null,
   "id": "9d7ec7e4",
   "metadata": {},
   "outputs": [],
   "source": [
    "#Điểm trung bình cho mỗi dịch vụ khảo sát\n",
    "df_delay_ok.iloc[:,9:18].mean()"
   ]
  },
  {
   "cell_type": "markdown",
   "id": "3b7510b4",
   "metadata": {},
   "source": [
    "**Từ phân tích số liệu ở trên thấy rằng, trong trường hợp chuyến bay bị Delay lâu để hành khách vẫn có thể happy với hãng hãy tập trung vào các dịch vụ:**\n",
    "* Food and drink - 4.07\n",
    "* Baggage handling - 4.01\n",
    "* Seat comfort,Checkin service, Cleanliness - 3.95\n"
   ]
  },
  {
   "cell_type": "markdown",
   "id": "aa491966",
   "metadata": {},
   "source": [
    "<img src='Pic/action.jpg' width='600px'>"
   ]
  },
  {
   "cell_type": "code",
   "execution_count": null,
   "id": "140f3405",
   "metadata": {},
   "outputs": [],
   "source": []
  }
 ],
 "metadata": {
  "kernelspec": {
   "display_name": "Python 3 (ipykernel)",
   "language": "python",
   "name": "python3"
  },
  "language_info": {
   "codemirror_mode": {
    "name": "ipython",
    "version": 3
   },
   "file_extension": ".py",
   "mimetype": "text/x-python",
   "name": "python",
   "nbconvert_exporter": "python",
   "pygments_lexer": "ipython3",
   "version": "3.11.5"
  }
 },
 "nbformat": 4,
 "nbformat_minor": 5
}
